{
 "cells": [
  {
   "cell_type": "markdown",
   "id": "188c5396",
   "metadata": {},
   "source": [
    "# CP 421 Assignment 1\n",
    "## 2.1\n",
    "### 1.\n",
    "    The data array is [13,15, 16, 16, 19, 20, 20, 21, 22, 22, 25, 25, 25, 25, 30, 33, 33, 35, 35, 35, 35, 36, 40, 45, 46, 52,70].\n",
    "    The mean of array is: 29\n",
    "    The median number is: 25\n",
    "    The mode number is: 25,35\n",
    "    By using the diagram down below we can know that the data's modality is bimodal"
   ]
  },
  {
   "cell_type": "code",
   "execution_count": 2,
   "id": "3bd99d8a",
   "metadata": {},
   "outputs": [
    {
     "data": {
      "image/png": "[encoded data removed]",
      "text/plain": [
       "<Figure size 432x288 with 1 Axes>"
      ]
     },
     "metadata": {
      "needs_background": "light"
     },
     "output_type": "display_data"
    }
   ],
   "source": [
    "import matplotlib.pyplot as plt\n",
    "data = [13,15, 16, 16, 19, 20, 20, 21, 22, 22, 25, 25, 25, 25, 30, 33, 33, 35, 35, 35, 35, 36, 40, 45, 46, 52,70]\n",
    "plt.hist(data,bins = 70)\n",
    "plt.show()"
   ]
  },
  {
   "cell_type": "markdown",
   "id": "a2f1a7ce",
   "metadata": {},
   "source": [
    "### 2.\n",
    "    The five-number summary are minimum number: 13, Q1: 20, median number: 25, Q3 number: 35, maximum number: 70.\n",
    "### 3.    \n",
    "    The boxplot diagram:"
   ]
  },
  {
   "cell_type": "code",
   "execution_count": 3,
   "id": "f29e4df5",
   "metadata": {},
   "outputs": [
    {
     "data": {
      "image/png": "[encoded data removed]",
      "text/plain": [
       "<Figure size 432x288 with 1 Axes>"
      ]
     },
     "metadata": {
      "needs_background": "light"
     },
     "output_type": "display_data"
    }
   ],
   "source": [
    "import numpy as npy\n",
    "import pandas as pd\n",
    "data_array = npy.array([13,15, 16, 16, 19, 20, 20, 21, 22, 22, 25, 25, 25, 25, 30, 33, 33, 35, 35, 35, 35, 36, 40, 45, 46, 52,70]);\n",
    "df = pd.DataFrame(data_array);\n",
    "boxplot = df.boxplot();"
   ]
  },
  {
   "cell_type": "markdown",
   "id": "5a7b3f27",
   "metadata": {},
   "source": [
    "## 2.2\n",
    "### 1.\n",
    "By using the Euclidean Distance formula $$d = \\sqrt{(x_2 - x_1)^2+(y_2 - y_1)^2} $$ we can get:"
   ]
  },
  {
   "cell_type": "markdown",
   "id": "19368497",
   "metadata": {},
   "source": [
    "$$(x_1,y_1) = (1.4,1.6),（x_2,y_2) = (1.5,1.7)$$\n",
    "$$d = \\sqrt{(1.5 - 1.4)^2+(1.7 - 1.6)^2} $$\n",
    "$$d = \\sqrt{(0.1)^2+(0.1)^2}$$\n",
    "$$d = \\sqrt{(0.02)}$$\n",
    "$$d = 0.14142$$"
   ]
  },
  {
   "cell_type": "markdown",
   "id": "4f6719ba",
   "metadata": {},
   "source": [
    "$$(x_1,y_1) = (1.4,1.6),（x_2,y_2) = (2,1.9)$$\n",
    "$$d = \\sqrt{(2 - 1.4)^2+(1.9 - 1.6)^2} $$\n",
    "$$d = \\sqrt{(0.6)^2+(0.3)^2}$$\n",
    "$$d = \\sqrt{(0.36+0.09)}$$\n",
    "$$d = \\sqrt{(0.45)}$$\n",
    "$$d = 0.67082$$"
   ]
  },
  {
   "cell_type": "markdown",
   "id": "47fe42fa",
   "metadata": {},
   "source": [
    "$$(x_1,y_1) = (1.4,1.6),（x_2,y_2) = (1.6,1.8)$$\n",
    "$$d = \\sqrt{(1.6 - 1.4)^2+(1.8 - 1.6)^2} $$\n",
    "$$d = \\sqrt{(0.2)^2+(0.2)^2}$$\n",
    "$$d = \\sqrt{(0.04+0.04)}$$\n",
    "$$d = \\sqrt{(0.08)}$$\n",
    "$$d = 0.28284$$\n"
   ]
  },
  {
   "cell_type": "markdown",
   "id": "b577da94",
   "metadata": {},
   "source": [
    "$$(x_1,y_1) = (1.4,1.6),（x_2,y_2) = (1.2,1.5)$$\n",
    "$$d = \\sqrt{(1.2 - 1.4)^2+(1.5 - 1.6)^2} $$\n",
    "$$d = \\sqrt{(-0.2)^2+(-0.1)^2}$$\n",
    "$$d = \\sqrt{(0.04+0.01)}$$\n",
    "$$d = \\sqrt{(0.05)}$$\n",
    "$$d = 0.22360$$"
   ]
  },
  {
   "cell_type": "markdown",
   "id": "ff29848a",
   "metadata": {},
   "source": [
    "$$(x_1,y_1) = (1.4,1.6),（x_2,y_2) = (1.5,1.0)$$\n",
    "$$d = \\sqrt{(1.5 - 1.4)^2+(1.0 - 1.6)^2} $$\n",
    "$$d = \\sqrt{(0.1)^2+(-0.6)^2}$$\n",
    "$$d = \\sqrt{(0.01+0.36)}$$\n",
    "$$d = \\sqrt{(0.37)}$$\n",
    "$$d = 0.60827$$"
   ]
  },
  {
   "cell_type": "markdown",
   "id": "2313fb3c",
   "metadata": {},
   "source": [
    "By using the result to rank the database: $$x_1, x_4, x_3,x_5, x_2$$\n",
    "By using the Cosine similarity formula $$d = \\frac{(X \\cdot X1)}{||X||\\cdot||X1||} $$ we can get:"
   ]
  },
  {
   "cell_type": "markdown",
   "id": "15e632e7",
   "metadata": {},
   "source": [
    "$$(x,y) = (1.4,1.6),（x_1,y_1) = (1.5,1.7)$$\n",
    "$$Sim = \\frac{\\left(1.4\\cdot 1.5\\right)+\\left(1.6\\cdot \\:1.7\\right)}{\\sqrt{1.4^2+1.6^2}\\cdot \\sqrt{1.7^2+1.5^2}}$$\n",
    "$$Sim = 0.99999$$"
   ]
  },
  {
   "cell_type": "markdown",
   "id": "1e4cc2eb",
   "metadata": {},
   "source": [
    "$$(x,y) = (1.4,1.6),（x_1,y_1) = (2,1.9)$$\n",
    "$$Sim = \\frac{\\left(1.4\\cdot 2\\right)+\\left(1.6\\cdot \\:1.9\\right)}{\\sqrt{1.4^2+1.6^2}\\cdot \\sqrt{1.9^2+2^2}}$$\n",
    "$$Sim = 0.99575$$"
   ]
  },
  {
   "cell_type": "markdown",
   "id": "a7619e72",
   "metadata": {},
   "source": [
    "$$(x,y) = (1.4,1.6),（x_1,y_1) = (1.6,1.8)$$\n",
    "$$Sim = \\frac{\\left(1.4\\cdot 1.6\\right)+\\left(1.6\\cdot \\:1.8\\right)}{\\sqrt{1.4^2+1.6^2}\\cdot \\sqrt{1.6^2+1.8^2}}$$\n",
    "$$Sim = 0.99996$$"
   ]
  },
  {
   "cell_type": "markdown",
   "id": "a05d2bef",
   "metadata": {},
   "source": [
    "$$(x,y) = (1.4,1.6),（x_1,y_1) = (1.2,1.5)$$\n",
    "$$Sim = \\frac{\\left(1.4\\cdot 1.2\\right)+\\left(1.6\\cdot \\:1.5\\right)}{\\sqrt{1.4^2+1.6^2}\\cdot \\sqrt{1.2^2+1.5^2}}$$\n",
    "$$Sim = 0.99902$$"
   ]
  },
  {
   "cell_type": "markdown",
   "id": "0f6cdc80",
   "metadata": {},
   "source": [
    "$$(x,y) = (1.4,1.6),（x_1,y_1) = (1.5,1.0)$$\n",
    "$$Sim = \\frac{\\left(1.4\\cdot 1.5\\right)+\\left(1.6\\cdot \\:1.0\\right)}{\\sqrt{1.4^2+1.6^2}\\cdot \\sqrt{1.5^2+1.0^2}}$$\n",
    "$$Sim = 0.96536$$"
   ]
  },
  {
   "cell_type": "markdown",
   "id": "cefc2e81",
   "metadata": {},
   "source": [
    "By using the result to rank the database: $$x_1, x_3, x_4,x_2, x_5$$"
   ]
  },
  {
   "cell_type": "markdown",
   "id": "e2b85b9f",
   "metadata": {},
   "source": [
    "### 2.\n",
    "By using the norm of the $$\\vec{x}$$ formula: $$||\\vec{x}||= \\sqrt{\\vec{x}\\cdot\\vec{x}}$$\n",
    "Apply every point to the formula get the norm of each point, since we need to make the norm of each data point equal to 1.We can definde a variable C.$$C||\\vec{x}||= 1$$ $$C = \\frac{1}{\\sqrt{\\vec{x}\\cdot\\vec{x}}}$$Using the variable C multiples every vactor to get the Normalized data set."
   ]
  },
  {
   "cell_type": "markdown",
   "id": "92a11c0d",
   "metadata": {},
   "source": [
    "(1.4,1.6): $$||\\vec{x}||= \\sqrt{1.4^2+1.6^2}$$\n",
    "$$||\\vec{x}|| = 2.12602$$\n",
    "$$C||\\vec{x}||= 1$$\n",
    "$$C\\cdot2.12602= 1$$\n",
    "$$ C = \\frac{1}{2.12602}$$\n",
    "$$ C = 0.470365$$\n",
    "$$C\\cdot(1.4,1.6) = (0.658511,0.752584)$$ "
   ]
  },
  {
   "cell_type": "markdown",
   "id": "65a62e7f",
   "metadata": {},
   "source": [
    "(1.5,1.7):$$||\\vec{x}||= \\sqrt{1.5^2+1.7^2}$$\n",
    "$$||\\vec{x}|| = 2.26715$$\n",
    "$$C||\\vec{x}||= 1$$\n",
    "$$C\\cdot2.26715= 1$$\n",
    "$$ C = \\frac{1}{2.26715}$$\n",
    "$$ C = 0.441085$$\n",
    "$$C\\cdot(1.5,1.7) = (0.6616275,0.7498445)$$"
   ]
  },
  {
   "cell_type": "markdown",
   "id": "4c357c9e",
   "metadata": {},
   "source": [
    "(2,1.9):$$||\\vec{x}||= \\sqrt{2^2+1.9^2}$$\n",
    "$$||\\vec{x}|| = 2.75862$$\n",
    "$$C||\\vec{x}||= 1$$\n",
    "$$C\\cdot2.75862= 1$$\n",
    "$$ C = \\frac{1}{2.75862}$$\n",
    "$$ C = 0.3624998$$\n",
    "$$C\\cdot(2,1.9) = (0.7249996,0.68874962)$$"
   ]
  },
  {
   "cell_type": "markdown",
   "id": "4036c586",
   "metadata": {},
   "source": [
    "(1.6,1.8):$$||\\vec{x}||= \\sqrt{1.6^2+1.8^2}$$\n",
    "$$||\\vec{x}|| = 2.40831$$\n",
    "$$C||\\vec{x}||= 1$$\n",
    "$$C\\cdot2.40831= 1$$\n",
    "$$ C = \\frac{1}{2.40831}$$\n",
    "$$ C = 0.415229$$\n",
    "$$C\\cdot(1.6,1.8) = (0.6643664,0.7474122)$$"
   ]
  },
  {
   "cell_type": "markdown",
   "id": "26e52ac3",
   "metadata": {},
   "source": [
    "(1.2,1.5):$$||\\vec{x}||= \\sqrt{1.2^2+1.5^2}$$\n",
    "$$||\\vec{x}|| = 1.92093$$\n",
    "$$C||\\vec{x}||= 1$$\n",
    "$$C\\cdot1.92093= 1$$\n",
    "$$ C = \\frac{1}{1.92093}$$\n",
    "$$ C = 0.52057$$\n",
    "$$C\\cdot(1.2,1.5) = (0.624696,0.78087)$$"
   ]
  },
  {
   "cell_type": "markdown",
   "id": "8b6bb250",
   "metadata": {},
   "source": [
    "(1.5,1.0):$$||\\vec{x}||= \\sqrt{1.5^2+1^2}$$\n",
    "$$||\\vec{x}|| = 1.80277$$\n",
    "$$C||\\vec{x}||= 1$$\n",
    "$$C\\cdot1.80277= 1$$\n",
    "$$ C = \\frac{1}{1.80277}$$\n",
    "$$ C = 0.554705$$\n",
    "$$C\\cdot(1.5,1.0) = (0.8320575,0.554705)$$"
   ]
  },
  {
   "cell_type": "markdown",
   "id": "9e2e557d",
   "metadata": {},
   "source": [
    "Applying the Euclidean Distance formula to rank the database:$$d = \\sqrt{(x_2 - x_1)^2+(y_2 - y_1)^2}$$"
   ]
  },
  {
   "cell_type": "markdown",
   "id": "fa8e6b66",
   "metadata": {},
   "source": [
    "#### X1:$$(x_1,y_1) = (1.4,1.6) = (0.658511,0.752584),（x_2,y_2) = (1.5,1.7) = (0.6616275,0.7498445)$$\n",
    "$$d = \\sqrt{(0.6616275 - 0.658511)^2+(0.7498445 - 0.752584)^2} $$\n",
    "$$d = 0.00414$$\n",
    "#### X2:$$(x_1,y_1) = (1.4,1.6) = (0.658511,0.752584),（x_2,y_2) = (2,1.9) = (0.7249996,0.68874962)$$\n",
    "$$d = \\sqrt{(0.7249996 - 0.658511)^2+(0.68874962 - 0.752584)^2} $$\n",
    "$$d = 0.09217$$\n",
    "#### X3:$$(x_1,y_1) = (1.4,1.6) = (0.658511,0.752584),（x_2,y_2) = (1.6,1.8) = (0.6643664,0.7474122)$$\n",
    "$$d = \\sqrt{(0.6643664 - 0.658511)^2+(0.7474122 - 0.752584)^2} $$\n",
    "$$d = 0.00781$$\n",
    "#### X4:$$(x_1,y_1) = (1.4,1.6) = (0.658511,0.752584),（x_2,y_2) = (1.2,1.5) = (0.624696,0.78087)$$\n",
    "$$d = \\sqrt{(0.624696 - 0.658511)^2+(0.78087 - 0.752584)^2} $$\n",
    "$$d = 0.04408$$\n",
    "#### X5:$$(x_1,y_1) = (1.4,1.6) = (0.658511,0.752584),（x_2,y_2) = (1.5,1.0) = (0.8320575,0.554705)$$\n",
    "$$d = \\sqrt{(0.8320575 - 0.658511)^2+(0.554705 - 0.752584)^2} $$\n",
    "$$d = 0.26320$$\n",
    "By using the result to rank the database:$$x_1,x_3,x_4,x_2,x_5$$"
   ]
  },
  {
   "cell_type": "markdown",
   "id": "20dfd102",
   "metadata": {},
   "source": [
    "## 2.3\n",
    "### 1.\n",
    "By question 2.3.1, we know the support threshold is 5, so the frequent items support threshold must be greater or equal to 5. We can apply the divide method to find which items support threshold is greater or equal to 5. For example(finding the items 4's support threshold) 4n = 100 then n = 25, which means there has 25 number are multiples of 4. Since multiples of 4 must include 4, so the item 4 support threshold is 25. By using this idea we can set a variable x, we know n will be 5 and have 100 items we can build an equation: $$ 5x = 100\\\\\n",
    "x = 20$$By the result we can know items 1 to 20 are the frequent items."
   ]
  },
  {
   "cell_type": "markdown",
   "id": "8097fc95",
   "metadata": {},
   "source": [
    "### 2.\n",
    "Association Rule expression: X -> Y\n",
    "Confidence of Association Rule:$$c(x->y) = \\frac{\\sigma(x \\cup y)}{\\sigma(x)}$$\n",
    "{5,7} -> 2\n",
    "In this case we need to find the least common multiple of {5,7,2} so that we can find$$\\sigma(x \\cup y)$$ and $$\\sigma(x)$$\n",
    "since least common multiple of {5,7,2} is 70 so there have only 1 item that include {5,7,2} from 1 to 100.$$\\sigma({5,7} \\cup 2) = 1$$\n",
    "least common multiple of {5,7} is 35 so there have only 2 item that include {5,7}\n",
    "$$c(x->y) = \\frac{\\sigma({5,7} \\cup 2)}{\\sigma({5,7})}$$\n",
    "$$c(x->y) = \\frac{1}{2}$$\n",
    "$$c(x->y) = 0.5$$\n",
    "{2,3,4} -> 5\n",
    "In this case we need to find the least common multiple of {2,3,4,5} so that we can find$$\\sigma(x \\cup y)$$ and $$\\sigma(x)$$\n",
    "since least common multiple of {2,3,4,5} is 60 so there have only 1 item that include {5,7,2} from 1 to 100.$$\\sigma({5,7} \\cup 2) = 1$$\n",
    "least common multiple of {2,3,4} is 12 so there have only 8 item that include {2,3,4}\n",
    "$$c(x->y) = \\frac{\\sigma({2,3,4} \\cup 5)}{\\sigma({2,3,4})}$$\n",
    "$$c(x->y) = \\frac{1}{8}$$\n",
    "$$c(x->y) = 0.125$$"
   ]
  }
 ],
 "metadata": {
  "kernelspec": {
   "display_name": "Python 3",
   "language": "python",
   "name": "python3"
  },
  "language_info": {
   "codemirror_mode": {
    "name": "ipython",
    "version": 3
   },
   "file_extension": ".py",
   "mimetype": "text/x-python",
   "name": "python",
   "nbconvert_exporter": "python",
   "pygments_lexer": "ipython3",
   "version": "3.8.8"
  }
 },
 "nbformat": 4,
 "nbformat_minor": 5
}
